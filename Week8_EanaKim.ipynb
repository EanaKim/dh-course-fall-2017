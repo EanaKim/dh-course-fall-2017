{
 "cells": [
  {
   "cell_type": "code",
   "execution_count": 26,
   "metadata": {},
   "outputs": [
    {
     "name": "stdout",
     "output_type": "stream",
     "text": [
      "column,placename,latitude,longitude\n",
      "1,Pioneerworks,40.6792081,74.0121513\n",
      "1,Eyebeam,40.703368,-73.934965\n",
      "1,NEW INC,40.7221318,-73.9927702\n",
      "1,Mana Contemporary,40.73662,-74.069048\n",
      "1,Museum of the Moving Image,40.7563454,-73.9239496\n",
      "1,Brooklyn Research,40.699929,-73.948835\n",
      "1,Issue Project Room,40.6908467,-73.9897215\n",
      "1,The Kitchen,40.7454908,-74.0068073\n",
      "1,Friedman Gallery,40.7260322,-74.0072644\n",
      "1,EMPAC(Experimental Media and Performing Arts Center),42.7289162,-73.6841797\n",
      "\n"
     ]
    }
   ],
   "source": [
    "import requests\n",
    "\n",
    "link = \"https://raw.githubusercontent.com/EanaKim/dh-course-fall-2017/master/ArtTech_NY_names.csv\"\n",
    "f = requests.get(link)\n",
    "\n",
    "print(f.text)"
   ]
  },
  {
   "cell_type": "code",
   "execution_count": 3,
   "metadata": {
    "collapsed": true
   },
   "outputs": [],
   "source": [
    "infile = open('ArtTech_NY_names.csv')"
   ]
  },
  {
   "cell_type": "code",
   "execution_count": 4,
   "metadata": {},
   "outputs": [
    {
     "name": "stdout",
     "output_type": "stream",
     "text": [
      "Pioneerworks 40.6792081\n",
      "Eyebeam 40.703368\n",
      "NEW INC 40.7221318\n",
      "Mana Contemporary 40.73662\n",
      "Museum of the Moving Image 40.7563454\n",
      "Brooklyn Research 40.699929\n",
      "Issue Project Room 40.6908467\n",
      "The Kitchen 40.7454908\n",
      "Friedman Gallery 40.7260322\n",
      "EMPAC(Experimental Media and Performing Arts Center) 42.7289162\n"
     ]
    }
   ],
   "source": [
    ">>> import csv\n",
    ">>> with open('ArtTech_NY_names.csv', newline='') as csvfile:\n",
    "...     reader = csv.DictReader(csvfile)\n",
    "...     for row in reader:\n",
    "...         print(row['placename'], row['latitude'])"
   ]
  },
  {
   "cell_type": "code",
   "execution_count": 5,
   "metadata": {
    "collapsed": true
   },
   "outputs": [],
   "source": [
    "import csv\n",
    "import urllib.request\n",
    "\n",
    "def get_carto_csv(carto_id):\n",
    "    # carto_id: STR\n",
    "    carto_url = \"https://raw.githubusercontent.com/EanaKim/dh-course-fall-2017/master/ArtTech_NY_names.csv\" % carto_id\n",
    "    try:\n",
    "        with urllib.request.urlopen(carto_url) as url:\n",
    "            carto_csv = csv.loads(url.read().decode())\n",
    "        return carto_csv\n",
    "    except:\n",
    "        return None"
   ]
  },
  {
   "cell_type": "code",
   "execution_count": 6,
   "metadata": {},
   "outputs": [],
   "source": [
    "import pandas as pd\n",
    "ArtTech = pd.read_csv(\"https://raw.githubusercontent.com/EanaKim/dh-course-fall-2017/master/ArtTech_NY_names.csv\")"
   ]
  },
  {
   "cell_type": "code",
   "execution_count": 9,
   "metadata": {},
   "outputs": [
    {
     "data": {
      "text/html": [
       "<div>\n",
       "<style>\n",
       "    .dataframe thead tr:only-child th {\n",
       "        text-align: right;\n",
       "    }\n",
       "\n",
       "    .dataframe thead th {\n",
       "        text-align: left;\n",
       "    }\n",
       "\n",
       "    .dataframe tbody tr th {\n",
       "        vertical-align: top;\n",
       "    }\n",
       "</style>\n",
       "<table border=\"1\" class=\"dataframe\">\n",
       "  <thead>\n",
       "    <tr style=\"text-align: right;\">\n",
       "      <th></th>\n",
       "      <th>column</th>\n",
       "      <th>placename</th>\n",
       "      <th>latitude</th>\n",
       "      <th>longitude</th>\n",
       "    </tr>\n",
       "  </thead>\n",
       "  <tbody>\n",
       "    <tr>\n",
       "      <th>0</th>\n",
       "      <td>1</td>\n",
       "      <td>Pioneerworks</td>\n",
       "      <td>40.679208</td>\n",
       "      <td>-74.012151</td>\n",
       "    </tr>\n",
       "    <tr>\n",
       "      <th>1</th>\n",
       "      <td>1</td>\n",
       "      <td>Eyebeam</td>\n",
       "      <td>40.703368</td>\n",
       "      <td>-73.934965</td>\n",
       "    </tr>\n",
       "    <tr>\n",
       "      <th>2</th>\n",
       "      <td>1</td>\n",
       "      <td>NEW INC</td>\n",
       "      <td>40.722132</td>\n",
       "      <td>-73.992770</td>\n",
       "    </tr>\n",
       "    <tr>\n",
       "      <th>3</th>\n",
       "      <td>1</td>\n",
       "      <td>Mana Contemporary</td>\n",
       "      <td>40.736620</td>\n",
       "      <td>-74.069048</td>\n",
       "    </tr>\n",
       "    <tr>\n",
       "      <th>4</th>\n",
       "      <td>1</td>\n",
       "      <td>Museum of the Moving Image</td>\n",
       "      <td>40.756345</td>\n",
       "      <td>-73.923950</td>\n",
       "    </tr>\n",
       "    <tr>\n",
       "      <th>5</th>\n",
       "      <td>1</td>\n",
       "      <td>Brooklyn Research</td>\n",
       "      <td>40.699929</td>\n",
       "      <td>-73.948835</td>\n",
       "    </tr>\n",
       "    <tr>\n",
       "      <th>6</th>\n",
       "      <td>1</td>\n",
       "      <td>Issue Project Room</td>\n",
       "      <td>40.690847</td>\n",
       "      <td>-73.989722</td>\n",
       "    </tr>\n",
       "    <tr>\n",
       "      <th>7</th>\n",
       "      <td>1</td>\n",
       "      <td>The Kitchen</td>\n",
       "      <td>40.745491</td>\n",
       "      <td>-74.006807</td>\n",
       "    </tr>\n",
       "    <tr>\n",
       "      <th>8</th>\n",
       "      <td>1</td>\n",
       "      <td>Friedman Gallery</td>\n",
       "      <td>40.726032</td>\n",
       "      <td>-74.007264</td>\n",
       "    </tr>\n",
       "    <tr>\n",
       "      <th>9</th>\n",
       "      <td>1</td>\n",
       "      <td>EMPAC(Experimental Media and Performing Arts C...</td>\n",
       "      <td>42.728916</td>\n",
       "      <td>-73.684180</td>\n",
       "    </tr>\n",
       "  </tbody>\n",
       "</table>\n",
       "</div>"
      ],
      "text/plain": [
       "   column                                          placename   latitude  \\\n",
       "0       1                                       Pioneerworks  40.679208   \n",
       "1       1                                            Eyebeam  40.703368   \n",
       "2       1                                            NEW INC  40.722132   \n",
       "3       1                                  Mana Contemporary  40.736620   \n",
       "4       1                         Museum of the Moving Image  40.756345   \n",
       "5       1                                  Brooklyn Research  40.699929   \n",
       "6       1                                 Issue Project Room  40.690847   \n",
       "7       1                                        The Kitchen  40.745491   \n",
       "8       1                                   Friedman Gallery  40.726032   \n",
       "9       1  EMPAC(Experimental Media and Performing Arts C...  42.728916   \n",
       "\n",
       "   longitude  \n",
       "0 -74.012151  \n",
       "1 -73.934965  \n",
       "2 -73.992770  \n",
       "3 -74.069048  \n",
       "4 -73.923950  \n",
       "5 -73.948835  \n",
       "6 -73.989722  \n",
       "7 -74.006807  \n",
       "8 -74.007264  \n",
       "9 -73.684180  "
      ]
     },
     "execution_count": 9,
     "metadata": {},
     "output_type": "execute_result"
    }
   ],
   "source": [
    "ArtTech"
   ]
  },
  {
   "cell_type": "code",
   "execution_count": null,
   "metadata": {
    "collapsed": true
   },
   "outputs": [],
   "source": []
  }
 ],
 "metadata": {
  "kernelspec": {
   "display_name": "Python 3",
   "language": "python",
   "name": "python3"
  },
  "language_info": {
   "codemirror_mode": {
    "name": "ipython",
    "version": 3
   },
   "file_extension": ".py",
   "mimetype": "text/x-python",
   "name": "python",
   "nbconvert_exporter": "python",
   "pygments_lexer": "ipython3",
   "version": "3.6.1"
  }
 },
 "nbformat": 4,
 "nbformat_minor": 2
}
