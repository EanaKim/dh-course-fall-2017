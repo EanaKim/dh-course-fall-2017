{
 "cells": [
  {
   "cell_type": "code",
   "execution_count": 26,
   "metadata": {},
   "outputs": [
    {
     "name": "stdout",
     "output_type": "stream",
     "text": [
      "column,placename,latitude,longitude\n",
      "1,Pioneerworks,40.6792081,74.0121513\n",
      "1,Eyebeam,40.703368,-73.934965\n",
      "1,NEW INC,40.7221318,-73.9927702\n",
      "1,Mana Contemporary,40.73662,-74.069048\n",
      "1,Museum of the Moving Image,40.7563454,-73.9239496\n",
      "1,Brooklyn Research,40.699929,-73.948835\n",
      "1,Issue Project Room,40.6908467,-73.9897215\n",
      "1,The Kitchen,40.7454908,-74.0068073\n",
      "1,Friedman Gallery,40.7260322,-74.0072644\n",
      "1,EMPAC(Experimental Media and Performing Arts Center),42.7289162,-73.6841797\n",
      "\n"
     ]
    }
   ],
   "source": [
    "import requests\n",
    "\n",
    "link = \"https://raw.githubusercontent.com/EanaKim/dh-course-fall-2017/master/ArtTech_NY_names.csv\"\n",
    "f = requests.get(link)\n",
    "\n",
    "print(f.text)"
   ]
  },
  {
   "cell_type": "code",
   "execution_count": 3,
   "metadata": {},
   "outputs": [],
   "source": [
    "infile = open('ArtTech_NY_names.csv')"
   ]
  },
  {
   "cell_type": "code",
   "execution_count": 4,
   "metadata": {},
   "outputs": [
    {
     "name": "stdout",
     "output_type": "stream",
     "text": [
      "Pioneerworks 40.6792081\n",
      "Eyebeam 40.703368\n",
      "NEW INC 40.7221318\n",
      "Mana Contemporary 40.73662\n",
      "Museum of the Moving Image 40.7563454\n",
      "Brooklyn Research 40.699929\n",
      "Issue Project Room 40.6908467\n",
      "The Kitchen 40.7454908\n",
      "Friedman Gallery 40.7260322\n",
      "EMPAC(Experimental Media and Performing Arts Center) 42.7289162\n"
     ]
    }
   ],
   "source": [
    ">>> import csv\n",
    ">>> with open('ArtTech_NY_names.csv', newline='') as csvfile:\n",
    "...     reader = csv.DictReader(csvfile)\n",
    "...     for row in reader:\n",
    "...         print(row['placename'], row['latitude'])"
   ]
  },
  {
   "cell_type": "code",
   "execution_count": 5,
   "metadata": {
    "collapsed": true
   },
   "outputs": [],
   "source": [
    "import csv\n",
    "import urllib.request\n",
    "\n",
    "def get_carto_csv(carto_id):\n",
    "    # carto_id: STR\n",
    "    carto_url = \"https://raw.githubusercontent.com/EanaKim/dh-course-fall-2017/master/ArtTech_NY_names.csv\" % carto_id\n",
    "    try:\n",
    "        with urllib.request.urlopen(carto_url) as url:\n",
    "            carto_csv = csv.loads(url.read().decode())\n",
    "        return carto_csv\n",
    "    except:\n",
    "        return None"
   ]
  }
 ],
 "metadata": {
  "kernelspec": {
   "display_name": "Python 3",
   "language": "python",
   "name": "python3"
  },
  "language_info": {
   "codemirror_mode": {
    "name": "ipython",
    "version": 3
   },
   "file_extension": ".py",
   "mimetype": "text/x-python",
   "name": "python",
   "nbconvert_exporter": "python",
   "pygments_lexer": "ipython3",
   "version": "3.6.1"
  }
 },
 "nbformat": 4,
 "nbformat_minor": 2
}
